{
 "cells": [
  {
   "cell_type": "code",
   "execution_count": 1,
   "id": "781cb20b",
   "metadata": {},
   "outputs": [
    {
     "name": "stdout",
     "output_type": "stream",
     "text": [
      "Your savings are:  3500\n"
     ]
    }
   ],
   "source": [
    "account = 200\n",
    "savings = 3000\n",
    "    \n",
    "# TO DO: modify the following line with the simplified operator +=\n",
    "savings = savings + 500\n",
    "\n",
    "print(\"Your savings are: \", savings)"
   ]
  },
  {
   "cell_type": "code",
   "execution_count": 4,
   "id": "79f64f1d",
   "metadata": {},
   "outputs": [],
   "source": [
    "savings +=500"
   ]
  },
  {
   "cell_type": "code",
   "execution_count": 3,
   "id": "05954607",
   "metadata": {},
   "outputs": [
    {
     "name": "stdout",
     "output_type": "stream",
     "text": [
      "Your savings are:  4000\n"
     ]
    }
   ],
   "source": [
    "print(\"Your savings are: \", savings)"
   ]
  },
  {
   "cell_type": "code",
   "execution_count": 5,
   "id": "d23bee91",
   "metadata": {},
   "outputs": [],
   "source": [
    "colors = \"red\", \"yellow\", \"green\", \"blue\", \"orange\""
   ]
  },
  {
   "cell_type": "code",
   "execution_count": 12,
   "id": "eee69722",
   "metadata": {},
   "outputs": [
    {
     "name": "stdout",
     "output_type": "stream",
     "text": [
      "('red', 'yellow', 'green', 'blue', 'orange')\n"
     ]
    }
   ],
   "source": [
    "print(colors)"
   ]
  },
  {
   "cell_type": "code",
   "execution_count": null,
   "id": "6040fc2d",
   "metadata": {},
   "outputs": [],
   "source": [
    "colors[2]='emerald'\n"
   ]
  }
 ],
 "metadata": {
  "kernelspec": {
   "display_name": "Python 3 (ipykernel)",
   "language": "python",
   "name": "python3"
  },
  "language_info": {
   "codemirror_mode": {
    "name": "ipython",
    "version": 3
   },
   "file_extension": ".py",
   "mimetype": "text/x-python",
   "name": "python",
   "nbconvert_exporter": "python",
   "pygments_lexer": "ipython3",
   "version": "3.9.13"
  }
 },
 "nbformat": 4,
 "nbformat_minor": 5
}
