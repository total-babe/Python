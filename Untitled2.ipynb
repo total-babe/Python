{
 "cells": [
  {
   "cell_type": "code",
   "execution_count": 1,
   "id": "f0f36bd4",
   "metadata": {},
   "outputs": [],
   "source": [
    "guests = []"
   ]
  },
  {
   "cell_type": "code",
   "execution_count": 3,
   "id": "79196c03",
   "metadata": {},
   "outputs": [],
   "source": [
    "guests.append('Joey')"
   ]
  },
  {
   "cell_type": "code",
   "execution_count": 4,
   "id": "1f12fae5",
   "metadata": {},
   "outputs": [],
   "source": [
    "guests.append('Martin')"
   ]
  },
  {
   "cell_type": "code",
   "execution_count": 5,
   "id": "68561ae6",
   "metadata": {},
   "outputs": [],
   "source": [
    "guests.append('Mary')"
   ]
  },
  {
   "cell_type": "code",
   "execution_count": 6,
   "id": "b66dcf6c",
   "metadata": {},
   "outputs": [
    {
     "name": "stdout",
     "output_type": "stream",
     "text": [
      "['Joey', 'Martin', 'Mary']\n"
     ]
    }
   ],
   "source": [
    "print(guests)"
   ]
  },
  {
   "cell_type": "code",
   "execution_count": 7,
   "id": "3cb0c39b",
   "metadata": {},
   "outputs": [
    {
     "data": {
      "text/plain": [
       "3"
      ]
     },
     "execution_count": 7,
     "metadata": {},
     "output_type": "execute_result"
    }
   ],
   "source": [
    "len(guests)"
   ]
  },
  {
   "cell_type": "code",
   "execution_count": 8,
   "id": "8760533f",
   "metadata": {},
   "outputs": [],
   "source": [
    "guests[1]='John'"
   ]
  },
  {
   "cell_type": "code",
   "execution_count": 9,
   "id": "2754144c",
   "metadata": {},
   "outputs": [],
   "source": [
    "guests.remove('Joey')"
   ]
  },
  {
   "cell_type": "code",
   "execution_count": 10,
   "id": "cc5ca559",
   "metadata": {},
   "outputs": [
    {
     "name": "stdout",
     "output_type": "stream",
     "text": [
      "John\n",
      "Mary\n"
     ]
    }
   ],
   "source": [
    "for guest in guests:\n",
    "    print(guest)"
   ]
  },
  {
   "cell_type": "code",
   "execution_count": 1,
   "id": "6145de12",
   "metadata": {},
   "outputs": [
    {
     "name": "stdout",
     "output_type": "stream",
     "text": [
      "What is your name?Florence\n"
     ]
    }
   ],
   "source": [
    "username = input('What is your name?')"
   ]
  },
  {
   "cell_type": "code",
   "execution_count": 5,
   "id": "3ad8fd12",
   "metadata": {},
   "outputs": [
    {
     "name": "stdout",
     "output_type": "stream",
     "text": [
      "Hello Florence !\n"
     ]
    }
   ],
   "source": [
    "if len(username) > 0:\n",
    "    print('Hello', username, '!')\n",
    "else:\n",
    "    print('Hello World')"
   ]
  },
  {
   "cell_type": "code",
   "execution_count": null,
   "id": "d38c6e25",
   "metadata": {},
   "outputs": [],
   "source": []
  }
 ],
 "metadata": {
  "kernelspec": {
   "display_name": "Python 3 (ipykernel)",
   "language": "python",
   "name": "python3"
  },
  "language_info": {
   "codemirror_mode": {
    "name": "ipython",
    "version": 3
   },
   "file_extension": ".py",
   "mimetype": "text/x-python",
   "name": "python",
   "nbconvert_exporter": "python",
   "pygments_lexer": "ipython3",
   "version": "3.9.13"
  }
 },
 "nbformat": 4,
 "nbformat_minor": 5
}
