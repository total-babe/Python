{
 "cells": [
  {
   "cell_type": "code",
   "execution_count": 1,
   "id": "e2def02e",
   "metadata": {},
   "outputs": [
    {
     "name": "stdout",
     "output_type": "stream",
     "text": [
      "Hello World\n"
     ]
    }
   ],
   "source": [
    "print(\"Hello World\")"
   ]
  },
  {
   "cell_type": "code",
   "execution_count": 2,
   "id": "548ebac1",
   "metadata": {},
   "outputs": [],
   "source": [
    "savingsAccount = 1000\n",
    "rate = 0.75\n",
    "interest = savingsAccount * rate /100"
   ]
  },
  {
   "cell_type": "code",
   "execution_count": 3,
   "id": "58a9ac6e",
   "metadata": {},
   "outputs": [
    {
     "ename": "NameError",
     "evalue": "name 'compteEpargne' is not defined",
     "output_type": "error",
     "traceback": [
      "\u001b[0;31m---------------------------------------------------------------------------\u001b[0m",
      "\u001b[0;31mNameError\u001b[0m                                 Traceback (most recent call last)",
      "\u001b[0;32m/tmp/ipykernel_7127/1120309892.py\u001b[0m in \u001b[0;36m<module>\u001b[0;34m\u001b[0m\n\u001b[0;32m----> 1\u001b[0;31m \u001b[0mprint\u001b[0m\u001b[0;34m(\u001b[0m\u001b[0;34m\"Your account balance was\"\u001b[0m\u001b[0;34m,\u001b[0m \u001b[0mcompteEpargne\u001b[0m\u001b[0;34m,\u001b[0m \u001b[0;34m\"€\\nYou earned\"\u001b[0m\u001b[0;34m,\u001b[0m \u001b[0minterest\u001b[0m\u001b[0;34m,\u001b[0m \u001b[0;34m\"€ this year\"\u001b[0m\u001b[0;34m)\u001b[0m\u001b[0;34m\u001b[0m\u001b[0;34m\u001b[0m\u001b[0m\n\u001b[0m",
      "\u001b[0;31mNameError\u001b[0m: name 'compteEpargne' is not defined"
     ]
    }
   ],
   "source": [
    "print(\"Your account balance was\", compteEpargne, \"€\\nYou earned\", interest, \"€ this year\")"
   ]
  },
  {
   "cell_type": "code",
   "execution_count": null,
   "id": "f8cfff0d",
   "metadata": {},
   "outputs": [],
   "source": []
  }
 ],
 "metadata": {
  "kernelspec": {
   "display_name": "Python 3 (ipykernel)",
   "language": "python",
   "name": "python3"
  },
  "language_info": {
   "codemirror_mode": {
    "name": "ipython",
    "version": 3
   },
   "file_extension": ".py",
   "mimetype": "text/x-python",
   "name": "python",
   "nbconvert_exporter": "python",
   "pygments_lexer": "ipython3",
   "version": "3.9.13"
  }
 },
 "nbformat": 4,
 "nbformat_minor": 5
}
